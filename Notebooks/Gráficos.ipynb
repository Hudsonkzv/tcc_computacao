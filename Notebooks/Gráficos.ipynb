{
 "cells": [
  {
   "cell_type": "markdown",
   "metadata": {},
   "source": [
    "#### Importação das biliotecas"
   ]
  },
  {
   "cell_type": "code",
   "execution_count": 1,
   "metadata": {},
   "outputs": [],
   "source": [
    "import pandas as pd\n",
    "import numpy as np\n",
    "import matplotlib.pyplot as plt\n",
    "from matplotlib import dates\n",
    "import datetime"
   ]
  },
  {
   "cell_type": "markdown",
   "metadata": {},
   "source": [
    "#### Função para definir endereço das tabelas"
   ]
  },
  {
   "cell_type": "code",
   "execution_count": 2,
   "metadata": {},
   "outputs": [],
   "source": [
    "def pathg(banco):\n",
    "    endereco = \"C:/Users/grama/Desktop/TCC - Computação/Projeções/Inad \"\n",
    "    final = \".csv\"\n",
    "    resultado = endereco + banco + final \n",
    "    return resultado"
   ]
  },
  {
   "cell_type": "markdown",
   "metadata": {},
   "source": [
    "#### Importação do arquivo CSV"
   ]
  },
  {
   "cell_type": "code",
   "execution_count": 7,
   "metadata": {},
   "outputs": [],
   "source": [
    "nome_banco = \"BB\"\n",
    "\n",
    "dados = pd.read_csv(pathg(nome_banco), sep = ';', thousands = '.', parse_dates=True)\n",
    "#itau.Time = pd.to_datetime(itau.Time)\n",
    "dados.set_index(\"Time\", inplace=True)"
   ]
  },
  {
   "cell_type": "markdown",
   "metadata": {},
   "source": [
    "#### Geração do Gráfico da série temporal"
   ]
  },
  {
   "cell_type": "code",
   "execution_count": null,
   "metadata": {},
   "outputs": [],
   "source": [
    "fig, ax = plt.subplots(figsize=(15, 6))\n",
    "\n",
    "ax.plot(dados.index,\n",
    "        dados['INAD_TOT_MIL'].str.replace(',', '.').astype(float),\n",
    "        marker='o',\n",
    "        color = 'purple')\n",
    "\n",
    "ax.set(xlabel=\"Trimestre\",\n",
    "       ylabel=\"Valor em milhões de R$\",\n",
    "       title=\"Inadimplência Total BB\"\n",
    ")\n",
    "\n",
    "plt.gcf().autofmt_xdate(rotation=90)\n",
    "plt.ticklabel_format(style='plain', axis='y')\n",
    "\n",
    "#plt.show()\n",
    "plt.savefig('inad_bb.png')"
   ]
  }
 ],
 "metadata": {
  "kernelspec": {
   "display_name": "Python 3",
   "language": "python",
   "name": "python3"
  },
  "language_info": {
   "codemirror_mode": {
    "name": "ipython",
    "version": 3
   },
   "file_extension": ".py",
   "mimetype": "text/x-python",
   "name": "python",
   "nbconvert_exporter": "python",
   "pygments_lexer": "ipython3",
   "version": "3.8.3"
  }
 },
 "nbformat": 4,
 "nbformat_minor": 4
}
